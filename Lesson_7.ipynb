{
  "nbformat": 4,
  "nbformat_minor": 0,
  "metadata": {
    "colab": {
      "name": "Lesson 7.ipynb",
      "provenance": [],
      "collapsed_sections": [],
      "authorship_tag": "ABX9TyO+C4ziQJUnKWBmpyIUTRnd"
    },
    "kernelspec": {
      "name": "python3",
      "display_name": "Python 3"
    },
    "language_info": {
      "name": "python"
    }
  },
  "cells": [
    {
      "cell_type": "markdown",
      "metadata": {
        "id": "kX63Kz7pEHiy"
      },
      "source": [
        "Задание 1"
      ]
    },
    {
      "cell_type": "code",
      "metadata": {
        "id": "dOzPlXiaB_qq"
      },
      "source": [
        "import numpy as np"
      ],
      "execution_count": 75,
      "outputs": []
    },
    {
      "cell_type": "code",
      "metadata": {
        "id": "AFNgnDRoEGbW"
      },
      "source": [
        "x = np.array([[ 1.22401313,  2.30868478,  3.03636353,  2.69287214],\n",
        "              [-0.18757272,  1.30337355,  5.12093014,  3.46363202],\n",
        "              [-0.81094525,  1.82463398,  5.79686488,  1.86159445],\n",
        "              [ 0.75129018,  2.67392052,  3.65529809,  1.66746094],\n",
        "              [ 0.00972362,  1.97367255,  2.50594319,  1.69755173],\n",
        "              [-0.62972637,  0.77750764,  2.84124027,  4.54410559],\n",
        "              [ 2.29536229,  1.81206697,  1.95026215,  1.51874636],\n",
        "              [ 0.0920418 ,  2.26971361,  7.47708735,  2.61081203],\n",
        "              [ 2.39252799,  3.17563985,  3.61420599,  5.10773362],\n",
        "              [ 0.54983815,  2.87988651,  1.65752765,  1.59635987]])\n",
        "\n",
        "y = np.array([9.26193358, 9.700363  ,  8.67214805,  8.74796974,  6.18689108,\n",
        "              7.53312713, 7.57643777, 12.44965478, 14.29010746,  6.68361218])"
      ],
      "execution_count": 76,
      "outputs": []
    },
    {
      "cell_type": "code",
      "metadata": {
        "id": "ib5w6o8cFiIA"
      },
      "source": [
        "def sum_of_squares(samples: np.ndarray) -> float:\n",
        "    return ((samples - samples.mean()) ** 2).sum()"
      ],
      "execution_count": 77,
      "outputs": []
    },
    {
      "cell_type": "code",
      "metadata": {
        "id": "DdbiXWNOHZFn"
      },
      "source": [
        "from itertools import combinations"
      ],
      "execution_count": 78,
      "outputs": []
    },
    {
      "cell_type": "code",
      "metadata": {
        "colab": {
          "base_uri": "https://localhost:8080/"
        },
        "id": "a670Uc6JHbb0",
        "outputId": "b721f5cf-1789-4db3-a4b7-e8e7d7a2d3ef"
      },
      "source": [
        "for value in combinations(range(4), 2):\n",
        "  x = X[:, value]\n",
        "\n",
        "  ones = np.ones((x.shape[0], 1))\n",
        "  x = np.hstack((ones, x))\n",
        "\n",
        "  XTX = x.T.dot(x)\n",
        "  XTX_inv = np.linalg.inv(XTX)\n",
        "  b = XTX_inv.dot(x.T).dot(y)\n",
        "  \n",
        "  z = x.dot(b)\n",
        "  e = y - z\n",
        "\n",
        "  R2 = 1 - sum_of_squares(e) / sum_of_squares(y)\n",
        "\n",
        "  print(f'{value[0]+1}, {value[1]+1}: {R2}')"
      ],
      "execution_count": 79,
      "outputs": [
        {
          "output_type": "stream",
          "name": "stdout",
          "text": [
            "1, 2: 0.18113594742585215\n",
            "1, 3: 0.7634246238793151\n",
            "1, 4: 0.4532966783144077\n",
            "2, 3: 0.5479482734039008\n",
            "2, 4: 0.6062055761129932\n",
            "3, 4: 0.622441987650532\n"
          ]
        }
      ]
    },
    {
      "cell_type": "code",
      "metadata": {
        "id": "MMU1UGZpIEMj"
      },
      "source": [
        "Ответ: 7634246238793151"
      ],
      "execution_count": 80,
      "outputs": []
    },
    {
      "cell_type": "markdown",
      "metadata": {
        "id": "BBqhOXyEKCbG"
      },
      "source": [
        "Задание 2"
      ]
    },
    {
      "cell_type": "code",
      "metadata": {
        "colab": {
          "base_uri": "https://localhost:8080/"
        },
        "id": "Z3Zbff8fKBwj",
        "outputId": "49b39ba2-8c22-472c-81a9-b0cc9a4a7642"
      },
      "source": [
        "n = x.shape[0]\n",
        "m = 2\n",
        "R2 = 0.7634246238793151\n",
        "\n",
        "k1 = m\n",
        "k2 = n - m - 1\n",
        "\n",
        "k1, k2"
      ],
      "execution_count": 81,
      "outputs": [
        {
          "output_type": "execute_result",
          "data": {
            "text/plain": [
              "(2, 7)"
            ]
          },
          "metadata": {},
          "execution_count": 81
        }
      ]
    },
    {
      "cell_type": "code",
      "metadata": {
        "id": "gLEglb2fL2DW"
      },
      "source": [
        "from scipy import stats"
      ],
      "execution_count": 82,
      "outputs": []
    },
    {
      "cell_type": "code",
      "metadata": {
        "colab": {
          "base_uri": "https://localhost:8080/"
        },
        "id": "qxjeS1FbLsK-",
        "outputId": "d117990f-6514-4160-961a-58ba694f15cb"
      },
      "source": [
        "alpha = 0.05\n",
        "\n",
        "t = stats.f.ppf(1 - alpha, k1, k2)\n",
        "t"
      ],
      "execution_count": 83,
      "outputs": [
        {
          "output_type": "execute_result",
          "data": {
            "text/plain": [
              "4.73741412777588"
            ]
          },
          "metadata": {},
          "execution_count": 83
        }
      ]
    },
    {
      "cell_type": "code",
      "metadata": {
        "colab": {
          "base_uri": "https://localhost:8080/"
        },
        "id": "5wxDtoFJMOYp",
        "outputId": "ac874a5d-ced4-4ef6-942c-b5e73e803da4"
      },
      "source": [
        "F = (R2 / k1) / ((1 - R2) / k2)\n",
        "F"
      ],
      "execution_count": 84,
      "outputs": [
        {
          "output_type": "execute_result",
          "data": {
            "text/plain": [
              "11.294439122922642"
            ]
          },
          "metadata": {},
          "execution_count": 84
        }
      ]
    },
    {
      "cell_type": "code",
      "metadata": {
        "id": "3gmIXtDaMSJV"
      },
      "source": [
        "Ответ: 1"
      ],
      "execution_count": 85,
      "outputs": []
    },
    {
      "cell_type": "markdown",
      "metadata": {
        "id": "O3N4EW5fM3if"
      },
      "source": [
        "Задание 3"
      ]
    },
    {
      "cell_type": "code",
      "metadata": {
        "colab": {
          "base_uri": "https://localhost:8080/"
        },
        "id": "Bb9bYi0NM250",
        "outputId": "16913261-b4de-4dda-f096-50b1bbf7974d"
      },
      "source": [
        "n1 = 2509\n",
        "n2 = 1465\n",
        " \n",
        "A = 77\n",
        "B = 60\n",
        "\n",
        "A_mean = A / n1\n",
        "B_mean = B / n2\n",
        "\n",
        "s1 = (A * (1 - A_mean) ** 2 + (n1 - A) * A_mean ** 2) / (n1 - 1)\n",
        "s2 = (B * (1 - B_mean) ** 2 + (n2 - B) * B_mean ** 2) / (n2 - 1)\n",
        "\n",
        "s_delta = np.sqrt(s1 / n1 + s2 / n2)\n",
        "s_delta"
      ],
      "execution_count": 105,
      "outputs": [
        {
          "output_type": "execute_result",
          "data": {
            "text/plain": [
              "0.006220171278295827"
            ]
          },
          "metadata": {},
          "execution_count": 105
        }
      ]
    },
    {
      "cell_type": "code",
      "metadata": {
        "colab": {
          "base_uri": "https://localhost:8080/"
        },
        "id": "qLxpXUMT0S8F",
        "outputId": "c6461628-1bdb-4e6c-aea4-4f1f797a0db9"
      },
      "source": [
        "t = (A_mean - B_mean) / s_delta\n",
        "\n",
        "t"
      ],
      "execution_count": 106,
      "outputs": [
        {
          "output_type": "execute_result",
          "data": {
            "text/plain": [
              "-1.6504551408398205"
            ]
          },
          "metadata": {},
          "execution_count": 106
        }
      ]
    },
    {
      "cell_type": "code",
      "metadata": {
        "colab": {
          "base_uri": "https://localhost:8080/"
        },
        "id": "zYDcYaz50qNN",
        "outputId": "be0f2bc9-b8a7-4554-a6cb-acfea33aa6d3"
      },
      "source": [
        "df = (s1 ** 2 / n1 + s2 ** 2 / n2) ** 2 / \\\n",
        "    ((s1 ** 2 / n1) ** 2 / (n1 - 1) + (s2 ** 2 / n2) ** 2 / (n2 - 1))\n",
        "\n",
        "df"
      ],
      "execution_count": 107,
      "outputs": [
        {
          "output_type": "execute_result",
          "data": {
            "text/plain": [
              "2448.005960982349"
            ]
          },
          "metadata": {},
          "execution_count": 107
        }
      ]
    },
    {
      "cell_type": "code",
      "metadata": {
        "colab": {
          "base_uri": "https://localhost:8080/"
        },
        "id": "B8Z2PnIc05K3",
        "outputId": "6241a572-bcf8-4c3b-a918-e5c0b0e511fd"
      },
      "source": [
        "alpha = 0.05\n",
        "\n",
        "t1 = stats.t.ppf(alpha / 2, df=df)\n",
        "t2 = stats.t.ppf(1 - alpha / 2, df=df)\n",
        "\n",
        "t1, t2"
      ],
      "execution_count": 108,
      "outputs": [
        {
          "output_type": "execute_result",
          "data": {
            "text/plain": [
              "(-1.960933518386532, 1.9609335183865315)"
            ]
          },
          "metadata": {},
          "execution_count": 108
        }
      ]
    },
    {
      "cell_type": "markdown",
      "metadata": {
        "id": "e1Q4ZJCA62hd"
      },
      "source": [
        "Значение -1.6504551408398205 не попало в критическую область. Ответ: 0 "
      ]
    }
  ]
}